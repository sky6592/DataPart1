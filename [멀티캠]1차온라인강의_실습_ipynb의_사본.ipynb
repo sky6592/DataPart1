{
  "nbformat": 4,
  "nbformat_minor": 0,
  "metadata": {
    "colab": {
      "name": "[멀티캠]1차온라인강의_실습.ipynb의 사본",
      "provenance": [],
      "collapsed_sections": [
        "nsAN3NBMThUq",
        "C5P_nIUbRSwB",
        "chGyxLX3NrbY",
        "bOS55qFcS3no",
        "_N8oDKagVfWt",
        "5ib4p2AaX4rU",
        "GfZHLzW7nTrv",
        "_lHRWJzGvyzs",
        "1Z_RlCa8xQ3b",
        "a_vX-2Gwxhyf",
        "p0TZBuAJ2gEt",
        "tsLVI-mt2nag",
        "E6MCekrGyNy2",
        "xQIaMQNotr2u",
        "iAmVM7AMekiv",
        "EX7y_2neAPYW",
        "Y7asGAkhl1F-",
        "mqbAaMjTiKUo",
        "fEK81e4vjVmy",
        "ztXE6iWceRmZ",
        "LBblpHMqetuo",
        "QLXUX4nBfqNA",
        "SXOe3oJylYgL"
      ],
      "include_colab_link": true
    },
    "kernelspec": {
      "name": "python3",
      "display_name": "Python 3"
    }
  },
  "cells": [
    {
      "cell_type": "markdown",
      "metadata": {
        "id": "view-in-github",
        "colab_type": "text"
      },
      "source": [
        "<a href=\"https://colab.research.google.com/github/sky6592/DataPart1/blob/main/%5B%EB%A9%80%ED%8B%B0%EC%BA%A0%5D1%EC%B0%A8%EC%98%A8%EB%9D%BC%EC%9D%B8%EA%B0%95%EC%9D%98_%EC%8B%A4%EC%8A%B5_ipynb%EC%9D%98_%EC%82%AC%EB%B3%B8.ipynb\" target=\"_parent\"><img src=\"https://colab.research.google.com/assets/colab-badge.svg\" alt=\"Open In Colab\"/></a>"
      ]
    },
    {
      "cell_type": "markdown",
      "metadata": {
        "id": "nsAN3NBMThUq"
      },
      "source": [
        "# 실습 1. 들어가기 전에.."
      ]
    },
    {
      "cell_type": "markdown",
      "metadata": {
        "id": "C5P_nIUbRSwB"
      },
      "source": [
        "## 1. 목적 정의"
      ]
    },
    {
      "cell_type": "markdown",
      "metadata": {
        "id": "chGyxLX3NrbY"
      },
      "source": [
        "### 1) 분석목적\n",
        "\n",
        "- <b> '허리둘레'에 영향을 미치는 요인이 무엇인지 알고싶다. </b>"
      ]
    },
    {
      "cell_type": "markdown",
      "metadata": {
        "id": "bOS55qFcS3no"
      },
      "source": [
        "## 2. 데이터 확인"
      ]
    },
    {
      "cell_type": "markdown",
      "metadata": {
        "id": "_N8oDKagVfWt"
      },
      "source": [
        "### 1) 예제 데이터 기본설명"
      ]
    },
    {
      "cell_type": "markdown",
      "metadata": {
        "id": "mNiRuYxFVjvD"
      },
      "source": [
        "- 원자료 출처 : [공공데이터포털](https://data.go.kr)\n",
        "\n",
        "- 국민의 건강검진 결과에 대한 데이터 중 2016년도의 일부 샘플링 데이터 입니다. "
      ]
    },
    {
      "cell_type": "markdown",
      "metadata": {
        "id": "5ib4p2AaX4rU"
      },
      "source": [
        "### 2) 데이터 포맷 및 크기"
      ]
    },
    {
      "cell_type": "markdown",
      "metadata": {
        "id": "jvUT97_1X7dl"
      },
      "source": [
        "- 포맷: CSV(파일 형식을 말하는 것입니다. <br>csv면 comma seperated, 즉 comma(,)로 데이터가 구분되어 있다는 뜻입니다)\n",
        "\n",
        "- 파일크기: 약 100MB\n",
        "\n",
        "- 데이터 사이즈: 1,000,000 rows × 34 columns"
      ]
    },
    {
      "cell_type": "markdown",
      "metadata": {
        "id": "GfZHLzW7nTrv"
      },
      "source": [
        "### 3) 데이터 항목(컬럼) 설명"
      ]
    },
    {
      "cell_type": "markdown",
      "metadata": {
        "id": "gL9JQpwOnZ9U"
      },
      "source": [
        "여러분들이 실제로 건강검진에서 받는 데이터들입니다.\n",
        "\n",
        "어떤 항목들이 데이터로 저장되어있는지 알아봅시다.\n",
        "\n",
        "- 기준년도 \n",
        "- 가입자일련번호 \n",
        "- 성별코드 \n",
        "- 연령대코드(5세단위) \n",
        "- 시도코드 \n",
        "- 신장(5Cm단위),\n",
        "- 체중(5Kg단위) \n",
        "- 허리둘레 \n",
        "- 시력(좌) \n",
        "- 시력(우) \n",
        "- 청력(좌) \n",
        "- 청력(우) \n",
        "- 수축기혈압\n",
        "- 이완기혈압 \n",
        "- 식전혈당(공복혈당) \n",
        "- 총콜레스테롤 \n",
        "- 트리글리세라이드 \n",
        "- HDL콜레스테롤 \n",
        "- LDL콜레스테롤\n",
        "- 혈색소 \n",
        "- 요단백 \n",
        "- 혈청크레아티닌 \n",
        "- (혈청지오티)AST \n",
        "- (혈청지오티)ALT \n",
        "- 감마지티피 \n",
        "- 흡연상태\n",
        "- 음주여부 \n",
        "- 구강검진 수검여부 \n",
        "- 치아우식증유무 \n",
        "- 결손치유무\n",
        "- 치아마모증유무 \n",
        "- 제3대구치(사랑니)이상\n",
        "- 치석 \n",
        "- 데이터공개일자"
      ]
    },
    {
      "cell_type": "markdown",
      "metadata": {
        "id": "_lHRWJzGvyzs"
      },
      "source": [
        "## 3. 구글 드라이브의 데이터 불러오기(goolge api)"
      ]
    },
    {
      "cell_type": "code",
      "metadata": {
        "id": "eRf6WPK2wAN-"
      },
      "source": [
        "# for google autorization\n",
        "from google.colab import auth\n",
        "auth.authenticate_user()\n",
        "from googleapiclient.discovery import build\n",
        "drive_service = build('drive', 'v3')\n",
        "\n",
        "\n",
        "# download data to python\n",
        "file_id = '1zLTSutSmaX4jLj89XT7I1PiqDPih8t2J'           # 여기 이 줄의  ' ' 사이에 file id를 넣어야 합니다.\n",
        "import io\n",
        "from googleapiclient.http import MediaIoBaseDownload\n",
        "request = drive_service.files().get_media(fileId=file_id)\n",
        "downloaded = io.BytesIO()\n",
        "downloader = MediaIoBaseDownload(downloaded, request)\n",
        "done = False\n",
        "while done is False:\n",
        "  \n",
        "  _, done = downloader.next_chunk()  \n",
        "downloaded.seek(0)\n",
        "\n",
        "print('complete')"
      ],
      "execution_count": null,
      "outputs": []
    },
    {
      "cell_type": "markdown",
      "metadata": {
        "id": "1Z_RlCa8xQ3b"
      },
      "source": [
        "## 4. Import libraries"
      ]
    },
    {
      "cell_type": "code",
      "metadata": {
        "id": "Lrn7L11TxfPl"
      },
      "source": [
        "# import libraries\n",
        "import pandas as pd\n",
        "import numpy as np\n",
        "import matplotlib.pyplot as plt\n",
        "import seaborn as sns\n",
        "%matplotlib inline\n",
        "print('All libraries are loaded')"
      ],
      "execution_count": null,
      "outputs": []
    },
    {
      "cell_type": "markdown",
      "metadata": {
        "id": "a_vX-2Gwxhyf"
      },
      "source": [
        "## 5. 데이터 확인"
      ]
    },
    {
      "cell_type": "markdown",
      "metadata": {
        "id": "p0TZBuAJ2gEt"
      },
      "source": [
        "### 1) 데이터 파싱(불러오기)"
      ]
    },
    {
      "cell_type": "code",
      "metadata": {
        "id": "Y4spI5QNqWPE"
      },
      "source": [
        "data = pd.read_csv(downloaded, encoding = 'euc-kr')\n",
        "data.head()"
      ],
      "execution_count": null,
      "outputs": []
    },
    {
      "cell_type": "markdown",
      "metadata": {
        "id": "tsLVI-mt2nag"
      },
      "source": [
        "### 2) 데이터 기본구조 파악하기"
      ]
    },
    {
      "cell_type": "markdown",
      "metadata": {
        "id": "E6MCekrGyNy2"
      },
      "source": [
        "#### 2.1) 칼럼명 확인하기"
      ]
    },
    {
      "cell_type": "code",
      "metadata": {
        "id": "EP6tCqudyXRZ"
      },
      "source": [
        "df = data.copy()\n",
        "df.columns"
      ],
      "execution_count": null,
      "outputs": []
    },
    {
      "cell_type": "code",
      "metadata": {
        "id": "D6nzxOv4ymVI"
      },
      "source": [
        "df['허리둘레'].head()"
      ],
      "execution_count": null,
      "outputs": []
    },
    {
      "cell_type": "markdown",
      "metadata": {
        "id": "xQIaMQNotr2u"
      },
      "source": [
        "#### 2.2) 각 칼럼의 데이터타입 확인하기"
      ]
    },
    {
      "cell_type": "code",
      "metadata": {
        "id": "xtIpWf0ID5yH"
      },
      "source": [
        "df.dtypes"
      ],
      "execution_count": null,
      "outputs": []
    },
    {
      "cell_type": "markdown",
      "metadata": {
        "id": "iAmVM7AMekiv"
      },
      "source": [
        "#### 2.3) 데이터 요약"
      ]
    },
    {
      "cell_type": "code",
      "metadata": {
        "id": "iFjO5joQepOl"
      },
      "source": [
        "df.describe()"
      ],
      "execution_count": null,
      "outputs": []
    },
    {
      "cell_type": "markdown",
      "metadata": {
        "id": "EX7y_2neAPYW"
      },
      "source": [
        "# 실습 2. NaN??? 이녀석은 무엇인가?"
      ]
    },
    {
      "cell_type": "markdown",
      "metadata": {
        "id": "Y7asGAkhl1F-"
      },
      "source": [
        "## 1) 필요없거나 쓸모없는 칼럼(데이터) 버리기."
      ]
    },
    {
      "cell_type": "code",
      "metadata": {
        "id": "4GpEisGomIDY"
      },
      "source": [
        "df2 = df.copy()\n",
        "df2 = df2[['성별코드', '연령대코드(5세단위)', '시도코드', '신장(5Cm단위)',\n",
        "           '체중(5Kg단위)', '허리둘레', '수축기혈압','이완기혈압', '식전혈당(공복혈당)', '총콜레스테롤', '트리글리세라이드', '흡연상태']]\n",
        "df2.head()"
      ],
      "execution_count": null,
      "outputs": []
    },
    {
      "cell_type": "code",
      "metadata": {
        "id": "QxEMPzJcgv-V"
      },
      "source": [
        "df2.describe()"
      ],
      "execution_count": null,
      "outputs": []
    },
    {
      "cell_type": "markdown",
      "metadata": {
        "id": "mqbAaMjTiKUo"
      },
      "source": [
        "### 2) 결측치(=NaN) 확인"
      ]
    },
    {
      "cell_type": "code",
      "metadata": {
        "id": "dBNMw4LfiT_y"
      },
      "source": [
        "df2.isnull().sum()"
      ],
      "execution_count": null,
      "outputs": []
    },
    {
      "cell_type": "code",
      "metadata": {
        "id": "x3AUzxAuU47F"
      },
      "source": [
        "ex_data = pd.DataFrame({'A' : [1,2,3,None,5],\n",
        "                        'B' : [1,None,3,4,None],\n",
        "                        'C' : [0,None,None,4,5],\n",
        "                        'D' : [31,24,32,26,27]})\n",
        "ex_data"
      ],
      "execution_count": null,
      "outputs": []
    },
    {
      "cell_type": "code",
      "metadata": {
        "id": "uNrSn34OWOdE"
      },
      "source": [
        "ex_data.isnull().sum()"
      ],
      "execution_count": null,
      "outputs": []
    },
    {
      "cell_type": "code",
      "metadata": {
        "id": "3S3_vXZeWsJe"
      },
      "source": [
        "ex_data.dropna()"
      ],
      "execution_count": null,
      "outputs": []
    },
    {
      "cell_type": "code",
      "metadata": {
        "id": "QAzwl5Zhi0x1"
      },
      "source": [
        "df3 = df2.copy()\n",
        "df3 = df3.dropna()\n",
        "df3.describe()"
      ],
      "execution_count": null,
      "outputs": []
    },
    {
      "cell_type": "code",
      "metadata": {
        "id": "FFdK14EIjHx3"
      },
      "source": [
        "df3.isnull().sum()"
      ],
      "execution_count": null,
      "outputs": []
    },
    {
      "cell_type": "markdown",
      "metadata": {
        "id": "fEK81e4vjVmy"
      },
      "source": [
        "# 실습 3. 이데이터는 뭐가 문제인가?"
      ]
    },
    {
      "cell_type": "markdown",
      "metadata": {
        "id": "ztXE6iWceRmZ"
      },
      "source": [
        "## 1) Intro: 데이터분석을 할때 가장 중요한것은?"
      ]
    },
    {
      "cell_type": "code",
      "metadata": {
        "id": "fRCqFKkXjx7p"
      },
      "source": [
        "df3.describe()"
      ],
      "execution_count": null,
      "outputs": []
    },
    {
      "cell_type": "markdown",
      "metadata": {
        "id": "LBblpHMqetuo"
      },
      "source": [
        "## 2) 문제점 1. 목표에 맞게 제대로 sampling된 데이터인가?"
      ]
    },
    {
      "cell_type": "markdown",
      "metadata": {
        "id": "QLXUX4nBfqNA"
      },
      "source": [
        "### 성별코드?"
      ]
    },
    {
      "cell_type": "code",
      "metadata": {
        "id": "mdvBfbgKgvQA"
      },
      "source": [
        "df3.describe()"
      ],
      "execution_count": null,
      "outputs": []
    },
    {
      "cell_type": "code",
      "metadata": {
        "id": "wR2EeCjQh9-H"
      },
      "source": [
        "df3['성별코드'].value_counts()"
      ],
      "execution_count": null,
      "outputs": []
    },
    {
      "cell_type": "markdown",
      "metadata": {
        "id": "SXOe3oJylYgL"
      },
      "source": [
        "## 3) 문제점 2. outlier"
      ]
    }
  ]
}